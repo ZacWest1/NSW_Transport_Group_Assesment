{
 "cells": [
  {
   "cell_type": "markdown",
   "id": "70b88242",
   "metadata": {},
   "source": [
    "# Group 60 Notebook"
   ]
  },
  {
   "cell_type": "markdown",
   "id": "6c1f3db0",
   "metadata": {},
   "source": [
    "## Contributions: Najib Rezai, Johnny Benstead, Zac West\n",
    "## Project Summary:\n",
    "> Transport for NSW, The movement density based on Opal card Tap on & off. The NSW transport system allows millions of people to travel to their destination daily. Hence, through properly analysing the movement of people, diverse businesses such as coffee shops, fast food and other advertisements companies could generate substantial profits.\n",
    "By precisely analysing the data for transport NSW, the business management team would be able to infer what products would generate the most profits within a specified date.\n",
    "Additionally, the analysis of transport for NSW data further allows the advertisement companies to decide what part of the NSW would be most suitable for advertising purposes.\n",
    "## Purpose and goals:\n",
    "> The main purpose of this project is to determine where best to place a new outlet and advertisements given data taken from the NSW Transport Opal card data. After analysing the inflow and outflow of people through different stations and bus stops, suitable locations can be identified for possible placements of these stores, outlets and advertisements. We will be basing our findings not only on the population density at specific times but also on age demographic given the type of Opal card used.\n",
    "## Our progression goals are:\n",
    "> * Analyse population density based on the weekly Opal card usage over time and create corresponding heat maps for significant times throughout the weeks.\n",
    "> * Further analyse these heat maps by investigating age demographics from the type of Opal card used.\n",
    "> * Use the monthly demographic data to determine the proportion of age groups using different train lines and bus stops and establish the best locations for advertisement based on the businesses target audience.\n",
    "> * Further analysis into specific trends in the monthly data could also indicate when best to run advertisements; i.e., if there are specific periods of time where trains and/or buses on specific lines or routes are more commonly used.\n",
    "## data obtained link:\n",
    "* https://opendata.transport.nsw.gov.au/search/type/dataset"
   ]
  },
  {
   "cell_type": "code",
   "execution_count": 3,
   "id": "ea8018eb",
   "metadata": {},
   "outputs": [],
   "source": [
    "## Importing required libraries \n",
    "\n",
    "import numpy as np\n",
    "import pandas as pd\n",
    "import matplotlib.pyplot as plt\n",
    "%matplotlib inline\n",
    "import seaborn as sns\n",
    "\n",
    "# Importing Linear Regression Library\n",
    "from sklearn.model_selection import train_test_split\n",
    "from sklearn import linear_model\n",
    "from sklearn.metrics import r2_score\n",
    "\n",
    "# Importing naive bayes library\n",
    "from sklearn.naive_bayes import GaussianNB\n",
    "from sklearn.naive_bayes import MultinomialNB\n",
    "\n",
    "# Importing pre_processing data library\n",
    "from sklearn import preprocessing\n",
    "from sklearn.preprocessing import KBinsDiscretizer\n",
    "from sklearn.model_selection import train_test_split\n",
    "\n",
    "# Importing ignoring wornings library\n",
    "import warnings\n",
    "warnings.filterwarnings(\"ignore\")"
   ]
  },
  {
   "cell_type": "markdown",
   "id": "2f239a76",
   "metadata": {},
   "source": [
    "## Reading files obtained from offical NSW transport"
   ]
  },
  {
   "cell_type": "code",
   "execution_count": 4,
   "id": "7bf3f7e2",
   "metadata": {},
   "outputs": [
    {
     "data": {
      "text/html": [
       "<div>\n",
       "<style scoped>\n",
       "    .dataframe tbody tr th:only-of-type {\n",
       "        vertical-align: middle;\n",
       "    }\n",
       "\n",
       "    .dataframe tbody tr th {\n",
       "        vertical-align: top;\n",
       "    }\n",
       "\n",
       "    .dataframe thead th {\n",
       "        text-align: right;\n",
       "    }\n",
       "</style>\n",
       "<table border=\"1\" class=\"dataframe\">\n",
       "  <thead>\n",
       "    <tr style=\"text-align: right;\">\n",
       "      <th></th>\n",
       "      <th>mode</th>\n",
       "      <th>date</th>\n",
       "      <th>tap</th>\n",
       "      <th>time</th>\n",
       "      <th>loc</th>\n",
       "      <th>count</th>\n",
       "    </tr>\n",
       "  </thead>\n",
       "  <tbody>\n",
       "    <tr>\n",
       "      <th>0</th>\n",
       "      <td>bus</td>\n",
       "      <td>20201116</td>\n",
       "      <td>off</td>\n",
       "      <td>0:15</td>\n",
       "      <td>Sydney CBD_Wynyard Station_George St(57)</td>\n",
       "      <td>19</td>\n",
       "    </tr>\n",
       "    <tr>\n",
       "      <th>1</th>\n",
       "      <td>bus</td>\n",
       "      <td>20201116</td>\n",
       "      <td>off</td>\n",
       "      <td>0:45</td>\n",
       "      <td>Bathurst St and Elizabeth St(116)</td>\n",
       "      <td>21</td>\n",
       "    </tr>\n",
       "    <tr>\n",
       "      <th>2</th>\n",
       "      <td>bus</td>\n",
       "      <td>20201116</td>\n",
       "      <td>off</td>\n",
       "      <td>2:15</td>\n",
       "      <td>Sydney TAFE(144)</td>\n",
       "      <td>19</td>\n",
       "    </tr>\n",
       "    <tr>\n",
       "      <th>3</th>\n",
       "      <td>bus</td>\n",
       "      <td>20201116</td>\n",
       "      <td>off</td>\n",
       "      <td>3:15</td>\n",
       "      <td>Sydney CBD_Defence Plaza(105)</td>\n",
       "      <td>22</td>\n",
       "    </tr>\n",
       "    <tr>\n",
       "      <th>4</th>\n",
       "      <td>bus</td>\n",
       "      <td>20201116</td>\n",
       "      <td>off</td>\n",
       "      <td>4:00</td>\n",
       "      <td>2140</td>\n",
       "      <td>19</td>\n",
       "    </tr>\n",
       "  </tbody>\n",
       "</table>\n",
       "</div>"
      ],
      "text/plain": [
       "  mode      date  tap  time                                       loc  count\n",
       "0  bus  20201116  off  0:15  Sydney CBD_Wynyard Station_George St(57)     19\n",
       "1  bus  20201116  off  0:45         Bathurst St and Elizabeth St(116)     21\n",
       "2  bus  20201116  off  2:15                          Sydney TAFE(144)     19\n",
       "3  bus  20201116  off  3:15             Sydney CBD_Defence Plaza(105)     22\n",
       "4  bus  20201116  off  4:00                                      2140     19"
      ]
     },
     "execution_count": 4,
     "metadata": {},
     "output_type": "execute_result"
    }
   ],
   "source": [
    "# read the offical NSW transport \n",
    "time_loc_NOV = pd.read_csv(\"files/time-loc_16NOV.csv\")\n",
    "time_loc_MAR = pd.read_csv(\"files/time-loc_23MAR.csv\")\n",
    "time_loc_AUG = pd.read_csv(\"files/time-loc_24AUG.csv\")\n",
    "time_loc_FEB = pd.read_csv(\"files/time-loc_24FEB.csv\")\n",
    "time_loc_NOV.head()"
   ]
  },
  {
   "cell_type": "code",
   "execution_count": 5,
   "id": "1a7335b5",
   "metadata": {},
   "outputs": [
    {
     "data": {
      "text/html": [
       "<div>\n",
       "<style scoped>\n",
       "    .dataframe tbody tr th:only-of-type {\n",
       "        vertical-align: middle;\n",
       "    }\n",
       "\n",
       "    .dataframe tbody tr th {\n",
       "        vertical-align: top;\n",
       "    }\n",
       "\n",
       "    .dataframe thead th {\n",
       "        text-align: right;\n",
       "    }\n",
       "</style>\n",
       "<table border=\"1\" class=\"dataframe\">\n",
       "  <thead>\n",
       "    <tr style=\"text-align: right;\">\n",
       "      <th></th>\n",
       "      <th>Unnamed: 0</th>\n",
       "      <th>mode</th>\n",
       "      <th>date</th>\n",
       "      <th>tap</th>\n",
       "      <th>time</th>\n",
       "      <th>loc</th>\n",
       "      <th>count</th>\n",
       "    </tr>\n",
       "  </thead>\n",
       "  <tbody>\n",
       "    <tr>\n",
       "      <th>0</th>\n",
       "      <td>0</td>\n",
       "      <td>bus</td>\n",
       "      <td>20201116</td>\n",
       "      <td>off</td>\n",
       "      <td>0:15</td>\n",
       "      <td>2000</td>\n",
       "      <td>19</td>\n",
       "    </tr>\n",
       "    <tr>\n",
       "      <th>1</th>\n",
       "      <td>1</td>\n",
       "      <td>bus</td>\n",
       "      <td>20201116</td>\n",
       "      <td>off</td>\n",
       "      <td>0:45</td>\n",
       "      <td>2000</td>\n",
       "      <td>21</td>\n",
       "    </tr>\n",
       "    <tr>\n",
       "      <th>2</th>\n",
       "      <td>2</td>\n",
       "      <td>bus</td>\n",
       "      <td>20201116</td>\n",
       "      <td>off</td>\n",
       "      <td>2:15</td>\n",
       "      <td>2007</td>\n",
       "      <td>19</td>\n",
       "    </tr>\n",
       "    <tr>\n",
       "      <th>3</th>\n",
       "      <td>3</td>\n",
       "      <td>bus</td>\n",
       "      <td>20201116</td>\n",
       "      <td>off</td>\n",
       "      <td>3:15</td>\n",
       "      <td>2000</td>\n",
       "      <td>22</td>\n",
       "    </tr>\n",
       "    <tr>\n",
       "      <th>4</th>\n",
       "      <td>4</td>\n",
       "      <td>bus</td>\n",
       "      <td>20201116</td>\n",
       "      <td>off</td>\n",
       "      <td>4:00</td>\n",
       "      <td>2140</td>\n",
       "      <td>19</td>\n",
       "    </tr>\n",
       "  </tbody>\n",
       "</table>\n",
       "</div>"
      ],
      "text/plain": [
       "   Unnamed: 0 mode      date  tap  time   loc  count\n",
       "0           0  bus  20201116  off  0:15  2000     19\n",
       "1           1  bus  20201116  off  0:45  2000     21\n",
       "2           2  bus  20201116  off  2:15  2007     19\n",
       "3           3  bus  20201116  off  3:15  2000     22\n",
       "4           4  bus  20201116  off  4:00  2140     19"
      ]
     },
     "execution_count": 5,
     "metadata": {},
     "output_type": "execute_result"
    }
   ],
   "source": [
    "pc_time_loc_NOV = pd.read_csv(\"files/pc_time-loc_16NOV.csv\")\n",
    "pc_time_loc_MAR = pd.read_csv(\"files/pc_time-loc_23MAR.csv\")\n",
    "pc_time_loc_AUG = pd.read_csv(\"files/pc_time-loc_24AUG.csv\")\n",
    "pc_time_loc_FEB = pd.read_csv(\"files/pc_time-loc_24FEB.csv\")\n",
    "pc_time_loc_NOV.head()"
   ]
  },
  {
   "cell_type": "code",
   "execution_count": 6,
   "id": "9a661907",
   "metadata": {},
   "outputs": [
    {
     "name": "stdout",
     "output_type": "stream",
     "text": [
      "Index(['mode', 'date', 'tap', 'time', 'loc', 'count'], dtype='object')\n",
      "Index(['mode', 'date', 'tap', 'time', 'loc', 'count'], dtype='object')\n",
      "Index(['mode', 'date', 'tap', 'time', 'loc', 'count'], dtype='object')\n",
      "Index(['mode', 'date', 'tap', 'time', 'loc', 'count'], dtype='object')\n"
     ]
    }
   ],
   "source": [
    "## print the keys for each datasets given.\n",
    "print(time_loc_NOV.keys())\n",
    "print(time_loc_MAR.keys())\n",
    "print(time_loc_AUG.keys())\n",
    "print(time_loc_FEB.keys())\n",
    "## All the dataset are clean to work with. "
   ]
  },
  {
   "cell_type": "code",
   "execution_count": 7,
   "id": "a039b7f3",
   "metadata": {},
   "outputs": [
    {
     "name": "stdout",
     "output_type": "stream",
     "text": [
      "NOV DATASET IS: (199080, 6)\n",
      "MAR DATASET IS: (114041, 6)\n",
      "AUG DATASET IS: (176816, 6)\n",
      "FEB DATASET IS: (276768, 6)\n"
     ]
    }
   ],
   "source": [
    "## Amount of data that we are analysing>\n",
    "print(\"NOV DATASET IS:\",time_loc_NOV.shape)\n",
    "print(\"MAR DATASET IS:\",time_loc_MAR.shape)\n",
    "print(\"AUG DATASET IS:\",time_loc_AUG.shape)\n",
    "print(\"FEB DATASET IS:\",time_loc_FEB.shape)\n"
   ]
  },
  {
   "cell_type": "markdown",
   "id": "b2fd781b",
   "metadata": {},
   "source": [
    "# Stops made per transport type"
   ]
  },
  {
   "cell_type": "code",
   "execution_count": 8,
   "id": "886b3a64",
   "metadata": {},
   "outputs": [
    {
     "data": {
      "image/png": "[encoded data removed]",
      "text/plain": [
       "<Figure size 432x288 with 1 Axes>"
      ]
     },
     "metadata": {
      "needs_background": "light"
     },
     "output_type": "display_data"
    }
   ],
   "source": [
    "# creating values\n",
    "    # feb\n",
    "feb_bus = sum(time_loc_FEB['mode'] == 'bus')\n",
    "feb_train = sum(time_loc_FEB['mode'] == 'train')\n",
    "feb_light_rail = sum(time_loc_FEB['mode'] == 'light_rail')\n",
    "feb_ferry = sum(time_loc_FEB['mode'] == 'ferry')\n",
    "    # aug\n",
    "aug_bus = sum(time_loc_AUG['mode'] == 'bus')\n",
    "aug_train = sum(time_loc_AUG['mode'] == 'train')\n",
    "aug_light_rail = sum(time_loc_AUG['mode'] == 'light_rail')\n",
    "aug_ferry = sum(time_loc_AUG['mode'] == 'ferry')\n",
    "    # mar\n",
    "mar_bus = sum(time_loc_MAR['mode'] == 'bus')\n",
    "mar_train = sum(time_loc_MAR['mode'] == 'train')\n",
    "mar_light_rail = sum(time_loc_MAR['mode'] == 'light_rail')\n",
    "mar_ferry = sum(time_loc_MAR['mode'] == 'ferry')\n",
    "    # nov\n",
    "nov_bus = sum(time_loc_NOV['mode'] == 'bus')\n",
    "nov_train = sum(time_loc_NOV['mode'] == 'train')\n",
    "nov_light_rail = sum(time_loc_NOV['mode'] == 'light_rail')\n",
    "nov_ferry = sum(time_loc_NOV['mode'] == 'ferry')\n",
    "# plotting graph\n",
    "N = 4\n",
    "ind = np.arange(N) \n",
    "width = 0.2\n",
    "  \n",
    "xvals = [feb_bus, feb_train, feb_light_rail, feb_ferry]\n",
    "bar1 = plt.bar(ind, xvals, width, color = 'r')\n",
    "  \n",
    "yvals = [mar_bus, mar_train, mar_light_rail, mar_ferry]\n",
    "bar2 = plt.bar(ind+width, yvals, width, color='g')\n",
    "  \n",
    "zvals = [aug_bus, aug_train, aug_light_rail, aug_ferry]\n",
    "bar3 = plt.bar(ind+width*2, zvals, width, color = 'b')\n",
    "\n",
    "avals = [nov_bus, nov_train, nov_light_rail, nov_ferry]\n",
    "bar4 = plt.bar(ind+width*3, avals, width, color = 'm')\n",
    "  \n",
    "plt.xlabel(\"Modes\")\n",
    "plt.ylabel('Count')\n",
    "plt.title(\"Mode of transport\")\n",
    "  \n",
    "plt.xticks(ind+width,['bus', 'train', 'light_rail', 'ferry'])\n",
    "plt.legend( (bar1, bar2, bar3, bar4), ('Feb', 'Mar', 'Aug', 'Nov') )\n",
    "plt.show()"
   ]
  },
  {
   "cell_type": "code",
   "execution_count": 9,
   "id": "eb131bb4",
   "metadata": {},
   "outputs": [
    {
     "name": "stdout",
     "output_type": "stream",
     "text": [
      "Bus counts = 370969\n",
      "Train counts = 348623\n",
      "Light Rail counts = 34491\n",
      "Ferry counts = 12610\n"
     ]
    },
    {
     "data": {
      "image/png": "[encoded data removed]",
      "text/plain": [
       "<Figure size 432x288 with 1 Axes>"
      ]
     },
     "metadata": {},
     "output_type": "display_data"
    }
   ],
   "source": [
    "bus = str(nov_bus + aug_bus + mar_bus + feb_bus)\n",
    "train = str(nov_train + aug_train + mar_train + feb_train)\n",
    "light_rail = str(nov_light_rail + aug_light_rail + mar_light_rail + feb_light_rail)\n",
    "ferry = str(nov_ferry + aug_ferry + mar_ferry + feb_ferry)\n",
    "\n",
    "print(\"Bus counts = \" + str( bus))\n",
    "print(\"Train counts = \" + str(train))\n",
    "print(\"Light Rail counts = \" + str(light_rail))\n",
    "print(\"Ferry counts = \" + str(ferry))\n",
    "# pie char\n",
    "transport = np.array([bus, train, light_rail, ferry])\n",
    "mylabels = [\"Bus\", \"Train\", \"Light Rail\", \"Ferry\"]\n",
    "\n",
    "plt.pie(transport, labels = mylabels)\n",
    "plt.show() "
   ]
  },
  {
   "cell_type": "markdown",
   "id": "e746596c",
   "metadata": {},
   "source": [
    "# People per transport type"
   ]
  },
  {
   "cell_type": "code",
   "execution_count": 10,
   "id": "167af73e",
   "metadata": {},
   "outputs": [
    {
     "name": "stdout",
     "output_type": "stream",
     "text": [
      "NOV data\n",
      "Ferry Passenger Counts = 188627\n",
      "Light Rail Passenger Counts = 459026\n",
      "Train Passenger Counts = 7903561\n",
      "Bus Passenger Counts = 5387240\n"
     ]
    },
    {
     "data": {
      "image/png": "[encoded data removed]",
      "text/plain": [
       "<Figure size 3600x720 with 1 Axes>"
      ]
     },
     "metadata": {},
     "output_type": "display_data"
    }
   ],
   "source": [
    "all_mode = ['bus', 'ferry', 'light_rail', 'train', 'unknown']\n",
    "counts = list()\n",
    "for i in all_mode:\n",
    "    q = pc_time_loc_NOV.loc[pc_time_loc_NOV['mode'] == i, 'count'].sum()\n",
    "    counts.append(q)\n",
    "\n",
    "pc_time_loc_NOV_m = pd.DataFrame()\n",
    "pc_time_loc_NOV_m['mode']=all_mode\n",
    "pc_time_loc_NOV_m['Counts']=counts\n",
    "\n",
    "bus_pc = str(pc_time_loc_NOV_m.iloc[0,1])\n",
    "ferry_pc = str(pc_time_loc_NOV_m.iloc[1,1])\n",
    "lr_pc = str(pc_time_loc_NOV_m.iloc[2,1])\n",
    "train_pc = str(pc_time_loc_NOV_m.iloc[3,1])\n",
    "\n",
    "print(\"NOV data\")\n",
    "print(\"Ferry Passenger Counts = \" + ferry_pc)\n",
    "print(\"Light Rail Passenger Counts = \" + lr_pc)\n",
    "print(\"Train Passenger Counts = \" + train_pc)\n",
    "print(\"Bus Passenger Counts = \" + bus_pc)\n",
    "\n",
    "plt.rcParams[\"figure.figsize\"] = (50, 10)\n",
    "\n",
    "transport = np.array([bus_pc, train_pc, lr_pc, ferry_pc])\n",
    "mylabels = [\"Bus\", \"Train\", \"Light Rail\", \"Ferry\"]\n",
    "\n",
    "plt.pie(transport, labels = mylabels)\n",
    "plt.show() "
   ]
  },
  {
   "cell_type": "code",
   "execution_count": 11,
   "id": "82dced58",
   "metadata": {},
   "outputs": [
    {
     "name": "stdout",
     "output_type": "stream",
     "text": [
      "AUG data\n",
      "Ferry Passenger Counts = 143761\n",
      "Light Rail Passenger Counts = 257714\n",
      "Train Passenger Counts = 6513489\n",
      "Bus Passenger Counts = 4560946\n"
     ]
    },
    {
     "data": {
      "image/png": "[encoded data removed]",
      "text/plain": [
       "<Figure size 3600x720 with 1 Axes>"
      ]
     },
     "metadata": {},
     "output_type": "display_data"
    }
   ],
   "source": [
    "all_mode = ['bus', 'ferry', 'light_rail', 'train', 'unknown']\n",
    "counts = list()\n",
    "for i in all_mode:\n",
    "    q = pc_time_loc_AUG.loc[pc_time_loc_AUG['mode'] == i, 'count'].sum()\n",
    "    counts.append(q)\n",
    "\n",
    "pc_time_loc_AUG_m = pd.DataFrame()\n",
    "pc_time_loc_AUG_m['mode']=all_mode\n",
    "pc_time_loc_AUG_m['Counts']=counts\n",
    "\n",
    "a_bus_pc = str(pc_time_loc_AUG_m.iloc[0,1])\n",
    "a_ferry_pc = str(pc_time_loc_AUG_m.iloc[1,1])\n",
    "a_lr_pc = str(pc_time_loc_AUG_m.iloc[2,1])\n",
    "a_train_pc = str(pc_time_loc_AUG_m.iloc[3,1])\n",
    "\n",
    "print(\"AUG data\")\n",
    "print(\"Ferry Passenger Counts = \" + a_ferry_pc)\n",
    "print(\"Light Rail Passenger Counts = \" + a_lr_pc)\n",
    "print(\"Train Passenger Counts = \" + a_train_pc)\n",
    "print(\"Bus Passenger Counts = \" + a_bus_pc)\n",
    "\n",
    "plt.rcParams[\"figure.figsize\"] = (50, 10)\n",
    "\n",
    "transport = np.array([a_bus_pc, a_train_pc, a_lr_pc, a_ferry_pc])\n",
    "mylabels = [\"Bus\", \"Train\", \"Light Rail\", \"Ferry\"]\n",
    "\n",
    "plt.pie(transport, labels = mylabels)\n",
    "plt.show() "
   ]
  },
  {
   "cell_type": "code",
   "execution_count": 12,
   "id": "2b049070",
   "metadata": {},
   "outputs": [
    {
     "name": "stdout",
     "output_type": "stream",
     "text": [
      "FEB data\n",
      "Ferry Passenger Counts = 539694\n",
      "Light Rail Passenger Counts = 835833\n",
      "Train Passenger Counts = 16155801\n",
      "Bus Passenger Counts = 10820120\n"
     ]
    },
    {
     "data": {
      "image/png": "[encoded data removed]",
      "text/plain": [
       "<Figure size 3600x720 with 1 Axes>"
      ]
     },
     "metadata": {},
     "output_type": "display_data"
    }
   ],
   "source": [
    "all_mode = ['bus', 'ferry', 'light_rail', 'train', 'unknown']\n",
    "counts = list()\n",
    "for i in all_mode:\n",
    "    q = pc_time_loc_FEB.loc[pc_time_loc_FEB['mode'] == i, 'count'].sum()\n",
    "    counts.append(q)\n",
    "\n",
    "pc_time_loc_FEB_m = pd.DataFrame()\n",
    "pc_time_loc_FEB_m['mode']=all_mode\n",
    "pc_time_loc_FEB_m['mode']=all_mode\n",
    "pc_time_loc_FEB_m['Counts']=counts\n",
    "\n",
    "F_bus_pc = str(pc_time_loc_FEB_m.iloc[0,1])\n",
    "F_ferry_pc = str(pc_time_loc_FEB_m.iloc[1,1])\n",
    "F_lr_pc = str(pc_time_loc_FEB_m.iloc[2,1])\n",
    "F_train_pc = str(pc_time_loc_FEB_m.iloc[3,1])\n",
    "\n",
    "print(\"FEB data\")\n",
    "print(\"Ferry Passenger Counts = \" + F_ferry_pc)\n",
    "print(\"Light Rail Passenger Counts = \" + F_lr_pc)\n",
    "print(\"Train Passenger Counts = \" + F_train_pc)\n",
    "print(\"Bus Passenger Counts = \" + F_bus_pc)\n",
    "\n",
    "plt.rcParams[\"figure.figsize\"] = (50, 10)\n",
    "\n",
    "transport = np.array([F_bus_pc, F_train_pc, F_lr_pc, F_ferry_pc])\n",
    "mylabels = [\"Bus\", \"Train\", \"Light Rail\", \"Ferry\"]\n",
    "\n",
    "plt.pie(transport, labels = mylabels)\n",
    "plt.show() "
   ]
  },
  {
   "cell_type": "code",
   "execution_count": 13,
   "id": "f62c649b",
   "metadata": {},
   "outputs": [
    {
     "name": "stdout",
     "output_type": "stream",
     "text": [
      "March data\n",
      "Ferry Passenger Counts = 25822\n",
      "Light Rail Passenger Counts = 41087\n",
      "Train Passenger Counts = 3852869\n",
      "Bus Passenger Counts = 2422326\n"
     ]
    },
    {
     "data": {
      "image/png": "[encoded data removed]",
      "text/plain": [
       "<Figure size 3600x720 with 1 Axes>"
      ]
     },
     "metadata": {},
     "output_type": "display_data"
    }
   ],
   "source": [
    "all_mode = ['bus', 'ferry', 'light_rail', 'train', 'unknown']\n",
    "counts = list()\n",
    "for i in all_mode:\n",
    "    q = pc_time_loc_MAR.loc[pc_time_loc_MAR['mode'] == i, 'count'].sum()\n",
    "    counts.append(q)\n",
    "\n",
    "pc_time_loc_MAR_m = pd.DataFrame()\n",
    "pc_time_loc_MAR_m['mode']=all_mode\n",
    "pc_time_loc_MAR_m['mode']=all_mode\n",
    "pc_time_loc_MAR_m['Counts']=counts\n",
    "\n",
    "M_bus_pc = str(pc_time_loc_MAR_m.iloc[0,1])\n",
    "M_ferry_pc = str(pc_time_loc_MAR_m.iloc[1,1])\n",
    "M_lr_pc = str(pc_time_loc_MAR_m.iloc[2,1])\n",
    "M_train_pc = str(pc_time_loc_MAR_m.iloc[3,1])\n",
    "\n",
    "print(\"March data\")\n",
    "print(\"Ferry Passenger Counts = \" + M_ferry_pc)\n",
    "print(\"Light Rail Passenger Counts = \" + M_lr_pc)\n",
    "print(\"Train Passenger Counts = \" + M_train_pc)\n",
    "print(\"Bus Passenger Counts = \" + M_bus_pc)\n",
    "\n",
    "plt.rcParams[\"figure.figsize\"] = (50, 10)\n",
    "\n",
    "transport = np.array([M_bus_pc, M_train_pc, M_lr_pc, M_ferry_pc])\n",
    "mylabels = [\"Bus\", \"Train\", \"Light Rail\", \"Ferry\"]\n",
    "\n",
    "plt.pie(transport, labels = mylabels)\n",
    "plt.show() "
   ]
  },
  {
   "cell_type": "code",
   "execution_count": 14,
   "id": "55984e83",
   "metadata": {},
   "outputs": [
    {
     "name": "stdout",
     "output_type": "stream",
     "text": [
      "All data\n",
      "Ferry Passenger Counts = 897904 or 1.493819882226494 %\n",
      "Light Rail Passenger Counts = 1593660 or 2.651331315495949 %\n",
      "Train Passenger Counts = 34425720 or 57.273188443265944 %\n",
      "Bus Passenger Counts = 23190632 or 38.581660359011615 %\n",
      "Total Passenger Count = 60107916\n"
     ]
    },
    {
     "data": {
      "image/png": "[encoded data removed]",
      "text/plain": [
       "<Figure size 3600x720 with 1 Axes>"
      ]
     },
     "metadata": {},
     "output_type": "display_data"
    }
   ],
   "source": [
    "ferry_data = int(F_ferry_pc) + int(M_ferry_pc) + int(a_ferry_pc) + int(ferry_pc)\n",
    "lr_data = int(F_lr_pc) + int(M_lr_pc) + int(a_lr_pc) + int(lr_pc)\n",
    "train_data = int(F_train_pc) + int(M_train_pc) + int(a_train_pc) + int(train_pc)\n",
    "bus_data = int(F_bus_pc) + int(M_bus_pc) + int(a_bus_pc) + int(bus_pc)\n",
    "passenger_data = int(ferry_data) + int(lr_data) + int(train_data) + int(bus_data)\n",
    "\n",
    "print(\"All data\")\n",
    "print(\"Ferry Passenger Counts = \" + str(ferry_data) + \" or \" + str((ferry_data/passenger_data)*100) + \" %\")\n",
    "print(\"Light Rail Passenger Counts = \" + str(lr_data) + \" or \" + str((lr_data/passenger_data)*100) + \" %\")\n",
    "print(\"Train Passenger Counts = \" + str(train_data) + \" or \" + str((train_data/passenger_data)*100) + \" %\")\n",
    "print(\"Bus Passenger Counts = \" + str(bus_data) + \" or \" + str((bus_data/passenger_data)*100) + \" %\")\n",
    "print(\"Total Passenger Count = \" + str(passenger_data))\n",
    "plt.rcParams[\"figure.figsize\"] = (50, 10)\n",
    "\n",
    "transport = np.array([bus_data, train_data, lr_data, ferry_data])\n",
    "mylabels = [\"Bus\", \"Train\", \"Light Rail\", \"Ferry\"]\n",
    "\n",
    "plt.pie(transport, labels = mylabels)\n",
    "plt.show() "
   ]
  },
  {
   "cell_type": "code",
   "execution_count": 15,
   "id": "1d89d93f",
   "metadata": {},
   "outputs": [
    {
     "data": {
      "text/html": [
       "<div>\n",
       "<style scoped>\n",
       "    .dataframe tbody tr th:only-of-type {\n",
       "        vertical-align: middle;\n",
       "    }\n",
       "\n",
       "    .dataframe tbody tr th {\n",
       "        vertical-align: top;\n",
       "    }\n",
       "\n",
       "    .dataframe thead th {\n",
       "        text-align: right;\n",
       "    }\n",
       "</style>\n",
       "<table border=\"1\" class=\"dataframe\">\n",
       "  <thead>\n",
       "    <tr style=\"text-align: right;\">\n",
       "      <th></th>\n",
       "      <th>Unnamed: 0</th>\n",
       "      <th>mode</th>\n",
       "      <th>date</th>\n",
       "      <th>tap</th>\n",
       "      <th>time</th>\n",
       "      <th>loc</th>\n",
       "      <th>count</th>\n",
       "    </tr>\n",
       "  </thead>\n",
       "  <tbody>\n",
       "    <tr>\n",
       "      <th>0</th>\n",
       "      <td>0</td>\n",
       "      <td>bus</td>\n",
       "      <td>20201116</td>\n",
       "      <td>off</td>\n",
       "      <td>0:15</td>\n",
       "      <td>2000</td>\n",
       "      <td>19</td>\n",
       "    </tr>\n",
       "    <tr>\n",
       "      <th>1</th>\n",
       "      <td>1</td>\n",
       "      <td>bus</td>\n",
       "      <td>20201116</td>\n",
       "      <td>off</td>\n",
       "      <td>0:45</td>\n",
       "      <td>2000</td>\n",
       "      <td>21</td>\n",
       "    </tr>\n",
       "    <tr>\n",
       "      <th>2</th>\n",
       "      <td>2</td>\n",
       "      <td>bus</td>\n",
       "      <td>20201116</td>\n",
       "      <td>off</td>\n",
       "      <td>2:15</td>\n",
       "      <td>2007</td>\n",
       "      <td>19</td>\n",
       "    </tr>\n",
       "    <tr>\n",
       "      <th>3</th>\n",
       "      <td>3</td>\n",
       "      <td>bus</td>\n",
       "      <td>20201116</td>\n",
       "      <td>off</td>\n",
       "      <td>3:15</td>\n",
       "      <td>2000</td>\n",
       "      <td>22</td>\n",
       "    </tr>\n",
       "    <tr>\n",
       "      <th>4</th>\n",
       "      <td>4</td>\n",
       "      <td>bus</td>\n",
       "      <td>20201116</td>\n",
       "      <td>off</td>\n",
       "      <td>4:00</td>\n",
       "      <td>2140</td>\n",
       "      <td>19</td>\n",
       "    </tr>\n",
       "  </tbody>\n",
       "</table>\n",
       "</div>"
      ],
      "text/plain": [
       "   Unnamed: 0 mode      date  tap  time   loc  count\n",
       "0           0  bus  20201116  off  0:15  2000     19\n",
       "1           1  bus  20201116  off  0:45  2000     21\n",
       "2           2  bus  20201116  off  2:15  2007     19\n",
       "3           3  bus  20201116  off  3:15  2000     22\n",
       "4           4  bus  20201116  off  4:00  2140     19"
      ]
     },
     "execution_count": 15,
     "metadata": {},
     "output_type": "execute_result"
    }
   ],
   "source": [
    "# drop data with dats that are not 16/11/2020\n",
    "pc_time_loc_11_16_2020 = pc_time_loc_NOV.drop(pc_time_loc_NOV.index[pc_time_loc_NOV['date'] != 20201116])\n",
    "pc_time_loc_11_16_2020.head()"
   ]
  },
  {
   "cell_type": "code",
   "execution_count": 16,
   "id": "b9e9a99a",
   "metadata": {},
   "outputs": [
    {
     "data": {
      "text/plain": [
       "<BarContainer object of 29557 artists>"
      ]
     },
     "execution_count": 16,
     "metadata": {},
     "output_type": "execute_result"
    },
    {
     "data": {
      "image/png": "[encoded data removed]",
      "text/plain": [
       "<Figure size 3600x720 with 1 Axes>"
      ]
     },
     "metadata": {
      "needs_background": "light"
     },
     "output_type": "display_data"
    }
   ],
   "source": [
    "# ploting volume of tap on/off vs. time of day on 16/11/2020 - monday\n",
    "plt.rcParams[\"figure.figsize\"] = (50, 10)\n",
    "plt.bar(x = pc_time_loc_11_16_2020['time'], height = pc_time_loc_11_16_2020['count'], edgecolor=\"k\")"
   ]
  },
  {
   "cell_type": "code",
   "execution_count": 17,
   "id": "e95c3643",
   "metadata": {},
   "outputs": [
    {
     "data": {
      "text/html": [
       "<div>\n",
       "<style scoped>\n",
       "    .dataframe tbody tr th:only-of-type {\n",
       "        vertical-align: middle;\n",
       "    }\n",
       "\n",
       "    .dataframe tbody tr th {\n",
       "        vertical-align: top;\n",
       "    }\n",
       "\n",
       "    .dataframe thead th {\n",
       "        text-align: right;\n",
       "    }\n",
       "</style>\n",
       "<table border=\"1\" class=\"dataframe\">\n",
       "  <thead>\n",
       "    <tr style=\"text-align: right;\">\n",
       "      <th></th>\n",
       "      <th>Unnamed: 0</th>\n",
       "      <th>mode</th>\n",
       "      <th>date</th>\n",
       "      <th>tap</th>\n",
       "      <th>time</th>\n",
       "      <th>loc</th>\n",
       "      <th>count</th>\n",
       "    </tr>\n",
       "  </thead>\n",
       "  <tbody>\n",
       "    <tr>\n",
       "      <th>30133</th>\n",
       "      <td>30133</td>\n",
       "      <td>bus</td>\n",
       "      <td>20201118</td>\n",
       "      <td>off</td>\n",
       "      <td>0:00</td>\n",
       "      <td>2150</td>\n",
       "      <td>31</td>\n",
       "    </tr>\n",
       "    <tr>\n",
       "      <th>30134</th>\n",
       "      <td>30134</td>\n",
       "      <td>bus</td>\n",
       "      <td>20201118</td>\n",
       "      <td>off</td>\n",
       "      <td>1:15</td>\n",
       "      <td>2000</td>\n",
       "      <td>20</td>\n",
       "    </tr>\n",
       "    <tr>\n",
       "      <th>30135</th>\n",
       "      <td>30135</td>\n",
       "      <td>bus</td>\n",
       "      <td>20201118</td>\n",
       "      <td>off</td>\n",
       "      <td>1:30</td>\n",
       "      <td>2000</td>\n",
       "      <td>19</td>\n",
       "    </tr>\n",
       "    <tr>\n",
       "      <th>30136</th>\n",
       "      <td>30136</td>\n",
       "      <td>bus</td>\n",
       "      <td>20201118</td>\n",
       "      <td>off</td>\n",
       "      <td>4:45</td>\n",
       "      <td>2170</td>\n",
       "      <td>30</td>\n",
       "    </tr>\n",
       "    <tr>\n",
       "      <th>30137</th>\n",
       "      <td>30137</td>\n",
       "      <td>bus</td>\n",
       "      <td>20201118</td>\n",
       "      <td>off</td>\n",
       "      <td>4:45</td>\n",
       "      <td>2256</td>\n",
       "      <td>19</td>\n",
       "    </tr>\n",
       "  </tbody>\n",
       "</table>\n",
       "</div>"
      ],
      "text/plain": [
       "       Unnamed: 0 mode      date  tap  time   loc  count\n",
       "30133       30133  bus  20201118  off  0:00  2150     31\n",
       "30134       30134  bus  20201118  off  1:15  2000     20\n",
       "30135       30135  bus  20201118  off  1:30  2000     19\n",
       "30136       30136  bus  20201118  off  4:45  2170     30\n",
       "30137       30137  bus  20201118  off  4:45  2256     19"
      ]
     },
     "execution_count": 17,
     "metadata": {},
     "output_type": "execute_result"
    }
   ],
   "source": [
    "# drop data with dats that are not 18/11/2020 - Wednesday\n",
    "pc_time_loc_11_18_2020 = pc_time_loc_NOV.drop(pc_time_loc_NOV.index[pc_time_loc_NOV['date'] != 20201118])\n",
    "pc_time_loc_11_18_2020.head()"
   ]
  },
  {
   "cell_type": "code",
   "execution_count": 18,
   "id": "7aa20d18",
   "metadata": {},
   "outputs": [
    {
     "data": {
      "text/plain": [
       "<BarContainer object of 32140 artists>"
      ]
     },
     "execution_count": 18,
     "metadata": {},
     "output_type": "execute_result"
    },
    {
     "data": {
      "image/png": "[encoded data removed]",
      "text/plain": [
       "<Figure size 3600x720 with 1 Axes>"
      ]
     },
     "metadata": {
      "needs_background": "light"
     },
     "output_type": "display_data"
    }
   ],
   "source": [
    "# ploting volume of tap on/off vs. time of day on 18/11/2020 - wednesday\n",
    "plt.rcParams[\"figure.figsize\"] = (50, 10)\n",
    "plt.bar(x = pc_time_loc_11_18_2020['time'], height = pc_time_loc_11_18_2020['count'], edgecolor=\"k\")"
   ]
  },
  {
   "cell_type": "code",
   "execution_count": 19,
   "id": "5eee8ed1",
   "metadata": {},
   "outputs": [
    {
     "data": {
      "text/html": [
       "<div>\n",
       "<style scoped>\n",
       "    .dataframe tbody tr th:only-of-type {\n",
       "        vertical-align: middle;\n",
       "    }\n",
       "\n",
       "    .dataframe tbody tr th {\n",
       "        vertical-align: top;\n",
       "    }\n",
       "\n",
       "    .dataframe thead th {\n",
       "        text-align: right;\n",
       "    }\n",
       "</style>\n",
       "<table border=\"1\" class=\"dataframe\">\n",
       "  <thead>\n",
       "    <tr style=\"text-align: right;\">\n",
       "      <th></th>\n",
       "      <th>Unnamed: 0</th>\n",
       "      <th>mode</th>\n",
       "      <th>date</th>\n",
       "      <th>tap</th>\n",
       "      <th>time</th>\n",
       "      <th>loc</th>\n",
       "      <th>count</th>\n",
       "    </tr>\n",
       "  </thead>\n",
       "  <tbody>\n",
       "    <tr>\n",
       "      <th>45975</th>\n",
       "      <td>45975</td>\n",
       "      <td>bus</td>\n",
       "      <td>20201119</td>\n",
       "      <td>off</td>\n",
       "      <td>0:00</td>\n",
       "      <td>2026</td>\n",
       "      <td>25</td>\n",
       "    </tr>\n",
       "    <tr>\n",
       "      <th>45976</th>\n",
       "      <td>45976</td>\n",
       "      <td>bus</td>\n",
       "      <td>20201119</td>\n",
       "      <td>off</td>\n",
       "      <td>0:00</td>\n",
       "      <td>2150</td>\n",
       "      <td>23</td>\n",
       "    </tr>\n",
       "    <tr>\n",
       "      <th>45977</th>\n",
       "      <td>45977</td>\n",
       "      <td>bus</td>\n",
       "      <td>20201119</td>\n",
       "      <td>off</td>\n",
       "      <td>0:15</td>\n",
       "      <td>2000</td>\n",
       "      <td>23</td>\n",
       "    </tr>\n",
       "    <tr>\n",
       "      <th>45978</th>\n",
       "      <td>45978</td>\n",
       "      <td>bus</td>\n",
       "      <td>20201119</td>\n",
       "      <td>off</td>\n",
       "      <td>1:00</td>\n",
       "      <td>2000</td>\n",
       "      <td>18</td>\n",
       "    </tr>\n",
       "    <tr>\n",
       "      <th>45979</th>\n",
       "      <td>45979</td>\n",
       "      <td>bus</td>\n",
       "      <td>20201119</td>\n",
       "      <td>off</td>\n",
       "      <td>1:15</td>\n",
       "      <td>2000</td>\n",
       "      <td>25</td>\n",
       "    </tr>\n",
       "  </tbody>\n",
       "</table>\n",
       "</div>"
      ],
      "text/plain": [
       "       Unnamed: 0 mode      date  tap  time   loc  count\n",
       "45975       45975  bus  20201119  off  0:00  2026     25\n",
       "45976       45976  bus  20201119  off  0:00  2150     23\n",
       "45977       45977  bus  20201119  off  0:15  2000     23\n",
       "45978       45978  bus  20201119  off  1:00  2000     18\n",
       "45979       45979  bus  20201119  off  1:15  2000     25"
      ]
     },
     "execution_count": 19,
     "metadata": {},
     "output_type": "execute_result"
    }
   ],
   "source": [
    "# drop data with dats that are not 19/11/2020 - Friday\n",
    "pc_time_loc_11_19_2020 = pc_time_loc_NOV.drop(pc_time_loc_NOV.index[pc_time_loc_NOV['date'] != 20201119])\n",
    "pc_time_loc_11_19_2020.head()"
   ]
  },
  {
   "cell_type": "code",
   "execution_count": 20,
   "id": "88a35820",
   "metadata": {},
   "outputs": [
    {
     "data": {
      "text/plain": [
       "<BarContainer object of 32935 artists>"
      ]
     },
     "execution_count": 20,
     "metadata": {},
     "output_type": "execute_result"
    },
    {
     "data": {
      "image/png": "[encoded data removed]",
      "text/plain": [
       "<Figure size 3600x720 with 1 Axes>"
      ]
     },
     "metadata": {
      "needs_background": "light"
     },
     "output_type": "display_data"
    }
   ],
   "source": [
    "# ploting volume of tap on/off vs. time of day on 19/11/2020 - Friday\n",
    "plt.rcParams[\"figure.figsize\"] = (50, 10)\n",
    "plt.bar(x = pc_time_loc_11_19_2020['time'], height = pc_time_loc_11_19_2020['count'], edgecolor=\"k\")"
   ]
  },
  {
   "cell_type": "code",
   "execution_count": 21,
   "id": "c960c169",
   "metadata": {},
   "outputs": [
    {
     "data": {
      "text/html": [
       "<div>\n",
       "<style scoped>\n",
       "    .dataframe tbody tr th:only-of-type {\n",
       "        vertical-align: middle;\n",
       "    }\n",
       "\n",
       "    .dataframe tbody tr th {\n",
       "        vertical-align: top;\n",
       "    }\n",
       "\n",
       "    .dataframe thead th {\n",
       "        text-align: right;\n",
       "    }\n",
       "</style>\n",
       "<table border=\"1\" class=\"dataframe\">\n",
       "  <thead>\n",
       "    <tr style=\"text-align: right;\">\n",
       "      <th></th>\n",
       "      <th>Unnamed: 0</th>\n",
       "      <th>mode</th>\n",
       "      <th>date</th>\n",
       "      <th>tap</th>\n",
       "      <th>time</th>\n",
       "      <th>loc</th>\n",
       "      <th>count</th>\n",
       "    </tr>\n",
       "  </thead>\n",
       "  <tbody>\n",
       "    <tr>\n",
       "      <th>62210</th>\n",
       "      <td>62210</td>\n",
       "      <td>bus</td>\n",
       "      <td>20201120</td>\n",
       "      <td>off</td>\n",
       "      <td>0:00</td>\n",
       "      <td>2026</td>\n",
       "      <td>22</td>\n",
       "    </tr>\n",
       "    <tr>\n",
       "      <th>62211</th>\n",
       "      <td>62211</td>\n",
       "      <td>bus</td>\n",
       "      <td>20201120</td>\n",
       "      <td>off</td>\n",
       "      <td>0:00</td>\n",
       "      <td>2000</td>\n",
       "      <td>27</td>\n",
       "    </tr>\n",
       "    <tr>\n",
       "      <th>62212</th>\n",
       "      <td>62212</td>\n",
       "      <td>bus</td>\n",
       "      <td>20201120</td>\n",
       "      <td>off</td>\n",
       "      <td>0:15</td>\n",
       "      <td>2026</td>\n",
       "      <td>21</td>\n",
       "    </tr>\n",
       "    <tr>\n",
       "      <th>62213</th>\n",
       "      <td>62213</td>\n",
       "      <td>bus</td>\n",
       "      <td>20201120</td>\n",
       "      <td>off</td>\n",
       "      <td>0:15</td>\n",
       "      <td>2000</td>\n",
       "      <td>31</td>\n",
       "    </tr>\n",
       "    <tr>\n",
       "      <th>62214</th>\n",
       "      <td>62214</td>\n",
       "      <td>bus</td>\n",
       "      <td>20201120</td>\n",
       "      <td>off</td>\n",
       "      <td>1:15</td>\n",
       "      <td>2000</td>\n",
       "      <td>23</td>\n",
       "    </tr>\n",
       "  </tbody>\n",
       "</table>\n",
       "</div>"
      ],
      "text/plain": [
       "       Unnamed: 0 mode      date  tap  time   loc  count\n",
       "62210       62210  bus  20201120  off  0:00  2026     22\n",
       "62211       62211  bus  20201120  off  0:00  2000     27\n",
       "62212       62212  bus  20201120  off  0:15  2026     21\n",
       "62213       62213  bus  20201120  off  0:15  2000     31\n",
       "62214       62214  bus  20201120  off  1:15  2000     23"
      ]
     },
     "execution_count": 21,
     "metadata": {},
     "output_type": "execute_result"
    }
   ],
   "source": [
    "# drop data with dats that are not 10/11/2020 - Saturday\n",
    "pc_time_loc_11_20_2020 = pc_time_loc_NOV.drop(pc_time_loc_NOV.index[pc_time_loc_NOV['date'] != 20201120])\n",
    "pc_time_loc_11_20_2020.head()"
   ]
  },
  {
   "cell_type": "code",
   "execution_count": 22,
   "id": "6957d42b",
   "metadata": {},
   "outputs": [
    {
     "data": {
      "text/plain": [
       "<BarContainer object of 33016 artists>"
      ]
     },
     "execution_count": 22,
     "metadata": {},
     "output_type": "execute_result"
    },
    {
     "data": {
      "image/png": "[encoded data removed]",
      "text/plain": [
       "<Figure size 3600x720 with 1 Axes>"
      ]
     },
     "metadata": {
      "needs_background": "light"
     },
     "output_type": "display_data"
    }
   ],
   "source": [
    "# ploting volume of tap on/off vs. time of day on 20/11/2020 - Saturday\n",
    "plt.rcParams[\"figure.figsize\"] = (50, 10)\n",
    "plt.bar(x = pc_time_loc_11_20_2020['time'], height = pc_time_loc_11_20_2020['count'], edgecolor=\"k\")"
   ]
  },
  {
   "cell_type": "code",
   "execution_count": 23,
   "id": "d981faf1",
   "metadata": {},
   "outputs": [
    {
     "data": {
      "text/html": [
       "<div>\n",
       "<style scoped>\n",
       "    .dataframe tbody tr th:only-of-type {\n",
       "        vertical-align: middle;\n",
       "    }\n",
       "\n",
       "    .dataframe tbody tr th {\n",
       "        vertical-align: top;\n",
       "    }\n",
       "\n",
       "    .dataframe thead th {\n",
       "        text-align: right;\n",
       "    }\n",
       "</style>\n",
       "<table border=\"1\" class=\"dataframe\">\n",
       "  <thead>\n",
       "    <tr style=\"text-align: right;\">\n",
       "      <th></th>\n",
       "      <th>Unnamed: 0</th>\n",
       "      <th>mode</th>\n",
       "      <th>date</th>\n",
       "      <th>tap</th>\n",
       "      <th>time</th>\n",
       "      <th>loc</th>\n",
       "      <th>count</th>\n",
       "    </tr>\n",
       "  </thead>\n",
       "  <tbody>\n",
       "    <tr>\n",
       "      <th>78223</th>\n",
       "      <td>78223</td>\n",
       "      <td>bus</td>\n",
       "      <td>20201121</td>\n",
       "      <td>off</td>\n",
       "      <td>0:00</td>\n",
       "      <td>2022</td>\n",
       "      <td>50</td>\n",
       "    </tr>\n",
       "    <tr>\n",
       "      <th>78224</th>\n",
       "      <td>78224</td>\n",
       "      <td>bus</td>\n",
       "      <td>20201121</td>\n",
       "      <td>off</td>\n",
       "      <td>0:00</td>\n",
       "      <td>2026</td>\n",
       "      <td>34</td>\n",
       "    </tr>\n",
       "    <tr>\n",
       "      <th>78225</th>\n",
       "      <td>78225</td>\n",
       "      <td>bus</td>\n",
       "      <td>20201121</td>\n",
       "      <td>off</td>\n",
       "      <td>0:00</td>\n",
       "      <td>2035</td>\n",
       "      <td>20</td>\n",
       "    </tr>\n",
       "    <tr>\n",
       "      <th>78226</th>\n",
       "      <td>78226</td>\n",
       "      <td>bus</td>\n",
       "      <td>20201121</td>\n",
       "      <td>off</td>\n",
       "      <td>0:00</td>\n",
       "      <td>2042</td>\n",
       "      <td>30</td>\n",
       "    </tr>\n",
       "    <tr>\n",
       "      <th>78227</th>\n",
       "      <td>78227</td>\n",
       "      <td>bus</td>\n",
       "      <td>20201121</td>\n",
       "      <td>off</td>\n",
       "      <td>0:00</td>\n",
       "      <td>2066</td>\n",
       "      <td>25</td>\n",
       "    </tr>\n",
       "  </tbody>\n",
       "</table>\n",
       "</div>"
      ],
      "text/plain": [
       "       Unnamed: 0 mode      date  tap  time   loc  count\n",
       "78223       78223  bus  20201121  off  0:00  2022     50\n",
       "78224       78224  bus  20201121  off  0:00  2026     34\n",
       "78225       78225  bus  20201121  off  0:00  2035     20\n",
       "78226       78226  bus  20201121  off  0:00  2042     30\n",
       "78227       78227  bus  20201121  off  0:00  2066     25"
      ]
     },
     "execution_count": 23,
     "metadata": {},
     "output_type": "execute_result"
    }
   ],
   "source": [
    "# drop data with dats that are not 21/11/2020 - Sunday\n",
    "pc_time_loc_11_21_2020 = pc_time_loc_NOV.drop(pc_time_loc_NOV.index[pc_time_loc_NOV['date'] != 20201121])\n",
    "pc_time_loc_11_21_2020.head()"
   ]
  },
  {
   "cell_type": "code",
   "execution_count": 24,
   "id": "d2ad903c",
   "metadata": {},
   "outputs": [
    {
     "data": {
      "text/plain": [
       "<BarContainer object of 22719 artists>"
      ]
     },
     "execution_count": 24,
     "metadata": {},
     "output_type": "execute_result"
    },
    {
     "data": {
      "image/png": "[encoded data removed]",
      "text/plain": [
       "<Figure size 3600x720 with 1 Axes>"
      ]
     },
     "metadata": {
      "needs_background": "light"
     },
     "output_type": "display_data"
    }
   ],
   "source": [
    "# ploting volume of tap on/off vs. time of day on 21/11/2020 - Sunday\n",
    "plt.rcParams[\"figure.figsize\"] = (50, 10)\n",
    "plt.bar(x = pc_time_loc_11_21_2020['time'], height = pc_time_loc_11_21_2020['count'], edgecolor=\"k\")"
   ]
  },
  {
   "cell_type": "code",
   "execution_count": 25,
   "id": "c2807b2c",
   "metadata": {},
   "outputs": [
    {
     "data": {
      "text/html": [
       "<div>\n",
       "<style scoped>\n",
       "    .dataframe tbody tr th:only-of-type {\n",
       "        vertical-align: middle;\n",
       "    }\n",
       "\n",
       "    .dataframe tbody tr th {\n",
       "        vertical-align: top;\n",
       "    }\n",
       "\n",
       "    .dataframe thead th {\n",
       "        text-align: right;\n",
       "    }\n",
       "</style>\n",
       "<table border=\"1\" class=\"dataframe\">\n",
       "  <thead>\n",
       "    <tr style=\"text-align: right;\">\n",
       "      <th></th>\n",
       "      <th>Postcodes</th>\n",
       "      <th>Counts</th>\n",
       "    </tr>\n",
       "  </thead>\n",
       "  <tbody>\n",
       "    <tr>\n",
       "      <th>1</th>\n",
       "      <td>2000</td>\n",
       "      <td>13654682</td>\n",
       "    </tr>\n",
       "    <tr>\n",
       "      <th>126</th>\n",
       "      <td>2150</td>\n",
       "      <td>2215851</td>\n",
       "    </tr>\n",
       "    <tr>\n",
       "      <th>15</th>\n",
       "      <td>2022</td>\n",
       "      <td>1604757</td>\n",
       "    </tr>\n",
       "    <tr>\n",
       "      <th>52</th>\n",
       "      <td>2067</td>\n",
       "      <td>1227737</td>\n",
       "    </tr>\n",
       "    <tr>\n",
       "      <th>113</th>\n",
       "      <td>2135</td>\n",
       "      <td>1118240</td>\n",
       "    </tr>\n",
       "  </tbody>\n",
       "</table>\n",
       "</div>"
      ],
      "text/plain": [
       "     Postcodes    Counts\n",
       "1         2000  13654682\n",
       "126       2150   2215851\n",
       "15        2022   1604757\n",
       "52        2067   1227737\n",
       "113       2135   1118240"
      ]
     },
     "execution_count": 25,
     "metadata": {},
     "output_type": "execute_result"
    }
   ],
   "source": [
    "# creating counts per postcode\n",
    "rpc1 = pc_time_loc_NOV['loc'].unique()\n",
    "rpc2 = pc_time_loc_MAR['loc'].unique()\n",
    "rpc3 = pc_time_loc_AUG['loc'].unique()\n",
    "rpc4 = pc_time_loc_FEB['loc'].unique()\n",
    "rpc = list()\n",
    "for i in rpc1 :\n",
    "    rpc.append(i)\n",
    "for i in rpc2 :\n",
    "    rpc.append(i)\n",
    "for i in rpc3 :\n",
    "    rpc.append(i)\n",
    "for i in rpc4 :\n",
    "    rpc.append(i)\n",
    "all_postcodes = []\n",
    "for i in rpc:\n",
    "    if i not in all_postcodes:\n",
    "        all_postcodes.append(i)\n",
    "all_postcodes.sort()\n",
    "\n",
    "counts = list()\n",
    "\n",
    "for i in all_postcodes:\n",
    "    w = pc_time_loc_NOV.loc[pc_time_loc_NOV['loc'] == i, 'count'].sum()\n",
    "    x = pc_time_loc_MAR.loc[pc_time_loc_MAR['loc'] == i, 'count'].sum()\n",
    "    y = pc_time_loc_AUG.loc[pc_time_loc_AUG['loc'] == i, 'count'].sum()\n",
    "    z = pc_time_loc_FEB.loc[pc_time_loc_FEB['loc'] == i, 'count'].sum()\n",
    "    q = w + x + y + z\n",
    "    counts.append(q)\n",
    "\n",
    "pc_time_loc_1 = pd.DataFrame()\n",
    "pc_time_loc_1['Postcodes']=all_postcodes\n",
    "pc_time_loc_1['Counts']=counts\n",
    "pc_time_loc_1 = pc_time_loc_1.drop([0])\n",
    "\n",
    "pc_time_loc_1.sort_values(['Counts'], ascending=False).head()"
   ]
  },
  {
   "cell_type": "code",
   "execution_count": 31,
   "id": "d073456f",
   "metadata": {},
   "outputs": [
    {
     "name": "stdout",
     "output_type": "stream",
     "text": [
      "Volume of people who took public transport in all the data sets combined (Febuary, March, August & November in 2020) is 59932803\n"
     ]
    }
   ],
   "source": [
    "# amount of people who traveled in November 2020\n",
    "print(\"Volume of people who took public transport in all the data sets combined (Febuary, March, August & November in 2020) is \" + str(sum(pc_time_loc_1['Counts'])))"
   ]
  }
 ],
 "metadata": {
  "kernelspec": {
   "display_name": "Python 3",
   "language": "python",
   "name": "python3"
  },
  "language_info": {
   "codemirror_mode": {
    "name": "ipython",
    "version": 3
   },
   "file_extension": ".py",
   "mimetype": "text/x-python",
   "name": "python",
   "nbconvert_exporter": "python",
   "pygments_lexer": "ipython3",
   "version": "3.8.8"
  }
 },
 "nbformat": 4,
 "nbformat_minor": 5
}
